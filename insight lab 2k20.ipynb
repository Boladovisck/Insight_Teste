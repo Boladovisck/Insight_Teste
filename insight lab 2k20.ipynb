{
 "cells": [
  {
   "cell_type": "code",
   "execution_count": 26,
   "metadata": {},
   "outputs": [],
   "source": [
    "import numpy as np\n",
    "import pandas as pd\n",
    "DOMINGO = 0\n",
    "SEGUNDA = 1\n",
    "TERCA   = 2\n",
    "QUARTA  = 3\n",
    "QUINTA  = 4\n",
    "SEXTA   = 5\n",
    "SABADO  = 6\n",
    "WEEKDAY = np.array([0,1,2,3,4,5,6])\n",
    "DOOMSDAYS = np.array([3,28,14,4,9,6,11,8,5,10,7,12,4,29])"
   ]
  },
  {
   "cell_type": "code",
   "execution_count": 28,
   "metadata": {},
   "outputs": [],
   "source": [
    "def linear_regression(dados,alfa,epochs):\n",
    "    Y = dados[-1,:]\n",
    "    m = len(Y)\n",
    "    X0 = np.ones(m)\n",
    "    X = np.concatenate((X0,dados[0:-1,:]),axis = 1)\n",
    "    w = np.zeros([np.shape(Y)])\n",
    "    for epoch in range(epochs):\n",
    "        gradiente = 2/m * X.T.dot(X.dot(w) - Y)\n",
    "        w = w - alfa * gradiente\n",
    "    return w"
   ]
  },
  {
   "cell_type": "code",
   "execution_count": 25,
   "metadata": {},
   "outputs": [],
   "source": [
    "def Doomsday(seculo):\n",
    "    dm = get_Code(get_Digit(seculo,0,2))\n",
    "    anos = get_Digit(seculo,2,-1)\n",
    "    x = anos // 12 #1\n",
    "    y = anos % 12  #6\n",
    "    z = y//4\n",
    "    asw = (x+y+z)%7 + dm\n",
    "    asw = asw%7\n",
    "    return asw\n",
    "\n",
    "def get_Digit(number,start_digit,end_digit):\n",
    "    number = str(number) + '0'\n",
    "    number = number[start_digit:end_digit]\n",
    "    number = int(number)\n",
    "    return number\n",
    "\n",
    "def get_Code(seculo):\n",
    "    code = 0\n",
    "    pivo = 17\n",
    "    \n",
    "    while pivo != seculo:\n",
    "        \n",
    "        if seculo > pivo:\n",
    "            pivo+=1\n",
    "            code+=1\n",
    "            \n",
    "        else:\n",
    "            pivo-=1\n",
    "            code-=1\n",
    "\n",
    "        if code > 3:\n",
    "            code = 0\n",
    "            \n",
    "        elif code < 0:\n",
    "            code = 3\n",
    "\n",
    "    if code == 0:\n",
    "        return DOMINGO\n",
    "    \n",
    "    elif code == 1:\n",
    "        return SEXTA\n",
    "    \n",
    "    elif code == 2:\n",
    "        return QUARTA\n",
    "    \n",
    "    elif code == 3:\n",
    "        return TERCA\n",
    "    \n",
    "    \n",
    "def data_pra_dia(data):\n",
    "    data = np.array(data.split(\"/\"))\n",
    "    code = Doomsday(data[2])\n",
    "    dd = DOOMSDAYS[int(data[1]) - 1]\n",
    "    \n",
    "    if int(data[2])%4 == 0: \n",
    "        \n",
    "        if data[1] == 1:\n",
    "            dd = DOOMSDAYS[12]\n",
    "            \n",
    "        elif data[1] == 2:\n",
    "            dd = DOOMSDAYS[13]\n",
    "            \n",
    "    cont = dd\n",
    "    \n",
    "    while int(data[0]) != cont :\n",
    "        \n",
    "        if int(data[0]) >= cont:\n",
    "            cont += 1\n",
    "            code += 1\n",
    "            \n",
    "        else:\n",
    "            cont -= 1\n",
    "            code -= 1\n",
    "            \n",
    "        if code > 6:\n",
    "            code = 0\n",
    "            \n",
    "        elif code < 0:\n",
    "            code = 3\n",
    "            \n",
    "    return code"
   ]
  },
  {
   "cell_type": "code",
   "execution_count": 18,
   "metadata": {},
   "outputs": [],
   "source": [
    "df = pd.read_csv('DadosBO_2019_1(ROUBO DE VEÍCULOS).csv')\n",
    "DATA = df['DATAOCORRENCIA']\n",
    "data = np.array(data_pra_dia(DATA[0]))\n",
    "i = 1\n",
    "while i < DATA.size:\n",
    "    data = np.append([data],[data_pra_dia(DATA[i])])\n",
    "    i+=1"
   ]
  },
  {
   "cell_type": "code",
   "execution_count": 29,
   "metadata": {},
   "outputs": [
    {
     "data": {
      "text/plain": [
       "1"
      ]
     },
     "execution_count": 29,
     "metadata": {},
     "output_type": "execute_result"
    }
   ],
   "source": [
    "data_pra_dia(\"11/08/3000\")"
   ]
  },
  {
   "cell_type": "code",
   "execution_count": null,
   "metadata": {},
   "outputs": [],
   "source": []
  }
 ],
 "metadata": {
  "kernelspec": {
   "display_name": "Python 3",
   "language": "python",
   "name": "python3"
  },
  "language_info": {
   "codemirror_mode": {
    "name": "ipython",
    "version": 3
   },
   "file_extension": ".py",
   "mimetype": "text/x-python",
   "name": "python",
   "nbconvert_exporter": "python",
   "pygments_lexer": "ipython3",
   "version": "3.8.1"
  }
 },
 "nbformat": 4,
 "nbformat_minor": 4
}
